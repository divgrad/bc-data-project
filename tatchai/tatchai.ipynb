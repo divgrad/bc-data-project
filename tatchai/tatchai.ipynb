{
 "cells": [
  {
   "cell_type": "markdown",
   "metadata": {},
   "source": [
    "# Import packages"
   ]
  },
  {
   "cell_type": "code",
   "execution_count": null,
   "metadata": {
    "collapsed": true
   },
   "outputs": [],
   "source": [
    "import pandas as pd\n",
    "import numpy as np\n",
    "import matplotlib.pyplot as plt\n",
    "from sklearn.preprocessing import StandardScaler\n",
    "\n",
    "%matplotlib inline"
   ]
  },
  {
   "cell_type": "markdown",
   "metadata": {},
   "source": [
    "# Read data\n",
    "\n",
    "Read in the first 20 000 rows and see if this gives us an idea. "
   ]
  },
  {
   "cell_type": "code",
   "execution_count": null,
   "metadata": {
    "collapsed": true
   },
   "outputs": [],
   "source": [
    "!wc /home/tam3tree/data/4-Vadeboncoeur/davis-bay.txt"
   ]
  },
  {
   "cell_type": "code",
   "execution_count": null,
   "metadata": {
    "collapsed": true
   },
   "outputs": [],
   "source": [
    "skip = 0\n",
    "nrows = 20000\n",
    "!shuf -n 20000 ~/data/4-Vadeboncoeur/davis-bay.txt > ~/tmp/sampledata0.txt\n",
    "#data = pd.read_csv('/home/tam3tree/data/4-Vadeboncoeur/davis-bay.txt',sep=\" \", header=None, nrows=nrows, skiprows=skip)\n",
    "datav = data.values"
   ]
  },
  {
   "cell_type": "markdown",
   "metadata": {},
   "source": [
    "I don't know what the last three are, so I'll call them `j`, `k` and `l`. "
   ]
  },
  {
   "cell_type": "code",
   "execution_count": null,
   "metadata": {
    "collapsed": true
   },
   "outputs": [],
   "source": [
    "column_names = ['lon', 'lat', 'z', 'r', 'g', 'b', 'j', 'k', 'l']\n",
    "data.columns = column_names"
   ]
  },
  {
   "cell_type": "code",
   "execution_count": null,
   "metadata": {
    "collapsed": true
   },
   "outputs": [],
   "source": [
    "data.shape"
   ]
  },
  {
   "cell_type": "code",
   "execution_count": null,
   "metadata": {
    "collapsed": true
   },
   "outputs": [],
   "source": [
    "data.head()"
   ]
  },
  {
   "cell_type": "code",
   "execution_count": null,
   "metadata": {
    "collapsed": true
   },
   "outputs": [],
   "source": [
    "data.describe().transpose()"
   ]
  },
  {
   "cell_type": "markdown",
   "metadata": {},
   "source": [
    "# Plot the data\n",
    "\n",
    "After first normalizing the data"
   ]
  },
  {
   "cell_type": "code",
   "execution_count": null,
   "metadata": {
    "collapsed": true
   },
   "outputs": [],
   "source": [
    "lon = data['lon']\n",
    "lat = data['lat']\n",
    "z = data['z']\n",
    "!shuf -n 20000 ~/tmp/sampledata0.txt > sample.txt\n",
    "scaler = StandardScaler()\n",
    "lon_lat_z_ = scaler.fit_transform(data[['lon', 'lat', 'z']].values)\n",
    "\n",
    "rgb = data.loc[:, ['r','g','b']].values\n",
    "rgb_01 = rgb/255"
   ]
  },
  {
   "cell_type": "markdown",
   "metadata": {},
   "source": [
    "## lat-lon plots"
   ]
  },
  {
   "cell_type": "code",
   "execution_count": null,
   "metadata": {
    "collapsed": true
   },
   "outputs": [],
   "source": [
    "plt.figure(figsize=(20, 10))\n",
    "plt.scatter(lon_lat_z_[:, 0], lon_lat_z_[:, 1], rgb_01)"
   ]
  },
  {
   "cell_type": "markdown",
   "metadata": {},
   "source": [
    "## Other plots\n",
    "\n",
    "Now what do the last three look like? "
   ]
  },
  {
   "cell_type": "code",
   "execution_count": null,
   "metadata": {
    "collapsed": true
   },
   "outputs": [],
   "source": [
    "plt.hist2d(datav[:, -3], datav[:, -2], bins=50);"
   ]
  },
  {
   "cell_type": "code",
   "execution_count": null,
   "metadata": {
    "collapsed": true
   },
   "outputs": [],
   "source": [
    "plt.hist2d(datav[:, -2], datav[:, -1], bins=50);"
   ]
  },
  {
   "cell_type": "code",
   "execution_count": null,
   "metadata": {
    "collapsed": true
   },
   "outputs": [],
   "source": [
    "plt.hist2d(datav[:, -3], datav[:, -1], bins=50);"
   ]
  },
  {
   "cell_type": "markdown",
   "metadata": {},
   "source": [
    "They look like angles! Let's verify!"
   ]
  },
  {
   "cell_type": "code",
   "execution_count": null,
   "metadata": {
    "collapsed": true
   },
   "outputs": [],
   "source": [
    "summary_stats = [func(np.linalg.norm(data.values[:, -3:], axis=1)) for func in [np.mean, np.std, np.min, np.max]]\n",
    "print('mean = {}\\nstd = {}\\nmin = {}\\nmax = {}'.format(*summary_stats))"
   ]
  },
  {
   "cell_type": "markdown",
   "metadata": {},
   "source": [
    "Indeed! But what could they correspond to? \n",
    "\n",
    "**Note:** For curiosity's sake, a 3D histogram can be seen in a scatter plot in a [gist, here](https://gist.github.com/asberk/ad5966e89c1a5cd85ad9e8975f617b1b)."
   ]
  }
 ],
 "metadata": {
  "kernelspec": {
   "display_name": "Python 3",
   "language": "python",
   "name": "python3"
  },
  "language_info": {
   "codemirror_mode": {
    "name": "ipython",
    "version": 3
   },
   "file_extension": ".py",
   "mimetype": "text/x-python",
   "name": "python",
   "nbconvert_exporter": "python",
   "pygments_lexer": "ipython3",
   "version": "3.6.1"
  }
 },
 "nbformat": 4,
 "nbformat_minor": 2
}
