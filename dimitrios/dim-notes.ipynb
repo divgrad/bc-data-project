{
 "cells": [
  {
   "cell_type": "code",
   "execution_count": null,
   "metadata": {
    "collapsed": true
   },
   "outputs": [],
   "source": [
    "import pandas as pd\n",
    "import numpy as np\n",
    "import matplotlib.pyplot as plt\n",
    "from sklearn.preprocessing import StandardScaler\n",
    "\n",
    "%matplotlib inline\n",
    "\n",
    "\n",
    "skip = 0\n",
    "nrows = 20000\n",
    "data = pd.read_csv('~/data/4-Vadeboncoeur/davis-bay.txt',sep=\" \", header=None, nrows=nrows, skiprows=skip)\n",
    "datav = data.values"
   ]
  },
  {
   "cell_type": "code",
   "execution_count": null,
   "metadata": {
    "collapsed": true
   },
   "outputs": [],
   "source": [
    "column_names = ['lon', 'lat', 'z', 'r', 'g', 'b', 'j', 'k', 'l']\n",
    "data.columns = column_names"
   ]
  },
  {
   "cell_type": "code",
   "execution_count": null,
   "metadata": {
    "collapsed": true
   },
   "outputs": [],
   "source": [
    "lon = data['lon']\n",
    "lat = data['lat']\n",
    "z = data['z']\n",
    "\n",
    "scaler = StandardScaler()\n",
    "lon_lat_z_ = scaler.fit_transform(data[['lon', 'lat', 'z']].values)\n",
    "\n",
    "rgb = data.loc[:, ['r','g','b']].values\n",
    "rgb_01 = rgb/255"
   ]
  },
  {
   "cell_type": "code",
   "execution_count": null,
   "metadata": {},
   "outputs": [],
   "source": [
    "m=np.random.permutation(np.arange(0,20000))\n",
    "data_1=datav[m,:]\n",
    "plt.scatter(data_1[:, 0], data_1[:, 1])"
   ]
  },
  {
   "cell_type": "code",
   "execution_count": null,
   "metadata": {
    "collapsed": true
   },
   "outputs": [],
   "source": []
  }
 ],
 "metadata": {
  "kernelspec": {
   "display_name": "Python 3",
   "language": "python",
   "name": "python3"
  },
  "language_info": {
   "codemirror_mode": {
    "name": "ipython",
    "version": 3
   },
   "file_extension": ".py",
   "mimetype": "text/x-python",
   "name": "python",
   "nbconvert_exporter": "python",
   "pygments_lexer": "ipython3",
   "version": "3.6.1"
  }
 },
 "nbformat": 4,
 "nbformat_minor": 2
}
