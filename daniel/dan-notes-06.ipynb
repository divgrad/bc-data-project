{
 "cells": [
  {
   "cell_type": "code",
   "execution_count": null,
   "metadata": {
    "collapsed": true
   },
   "outputs": [],
   "source": [
    "import pandas as pd\n",
    "import random\n",
    "import numpy as np\n",
    "import matplotlib.pyplot as plt\n",
    "\n",
    "from sklearn.preprocessing import StandardScaler\n",
    "from sklearn.neighbors import NearestNeighbors\n",
    "\n",
    "from sklearn.cluster import DBSCAN\n",
    "from sklearn.cluster import KMeans\n",
    "from sklearn.cluster import MiniBatchKMeans\n",
    "from sklearn.cluster import SpectralClustering\n",
    "\n",
    "from sklearn import metrics\n",
    "from sklearn.datasets.samples_generator import make_blobs\n",
    "from sklearn import svm\n",
    "\n",
    "from mpl_toolkits.mplot3d import Axes3D\n",
    "\n",
    "import scipy as sp\n",
    "import scipy.sparse as sps\n",
    "\n",
    "import time\n",
    "\n",
    "%matplotlib inline"
   ]
  },
  {
   "cell_type": "code",
   "execution_count": null,
   "metadata": {},
   "outputs": [],
   "source": [
    "!wc -l /home/divgrad/data/4-Vadeboncoeur/davis-bay.txt"
   ]
  },
  {
   "cell_type": "code",
   "execution_count": null,
   "metadata": {
    "collapsed": true
   },
   "outputs": [],
   "source": [
    "# input\n",
    "data_len = 57891462\n",
    "\n",
    "# maximum number of lines in each read instance\n",
    "max_subdata_len = 5000000"
   ]
  },
  {
   "cell_type": "code",
   "execution_count": null,
   "metadata": {},
   "outputs": [],
   "source": [
    "# number of reading instances needed\n",
    "subdata_instances = int(np.ceil(data_len/max_subdata_len))"
   ]
  },
  {
   "cell_type": "code",
   "execution_count": null,
   "metadata": {},
   "outputs": [],
   "source": [
    "file_name = '/home/divgrad/data/4-Vadeboncoeur/davis-bay.txt'\n",
    "\n",
    "\"\"\"\n",
    "    create num_cluster different empty text files\n",
    "\"\"\"\n",
    "\n",
    "\n",
    "for i in range(subdata_instances-1):\n",
    "    print(\"... reading lines {} - {}\".format(i*max_subdata_len,(i+1)*max_subdata_len - 1))\n",
    "    data = pd.read_csv(file_name,sep=\" \", usecols=[0,1,2,3,4,5], skiprows=i*max_subdata_len, \\\n",
    "                       nrows=max_subdata_len, header=None)    \n",
    "    \"\"\"\n",
    "        perform classification and add results to existinc cluster files\n",
    "    \"\"\"\n",
    "\n",
    "\n",
    "i = subdata_instances-1\n",
    "print(\"... reading lines {} - {}\".format(i*max_subdata_len,data_len))\n",
    "data = pd.read_csv(file_name,sep=\" \", usecols=[0,1,2,3,4,5], skiprows=i*max_subdata_len, header=None)\n",
    "\"\"\"\n",
    "    perform classification and add results to existinc cluster files\n",
    "\"\"\"\n",
    "    "
   ]
  },
  {
   "cell_type": "code",
   "execution_count": null,
   "metadata": {},
   "outputs": [],
   "source": [
    "i = subdata_instances-1\n",
    "print(\"... reading lines {} - {}\".format(i*max_subdata_len,data_len))"
   ]
  },
  {
   "cell_type": "code",
   "execution_count": null,
   "metadata": {
    "collapsed": true
   },
   "outputs": [],
   "source": [
    "data = pd.read_csv('/home/divgrad/data/4-Vadeboncoeur/davis-bay.txt',sep=\" \", header=None)"
   ]
  }
 ],
 "metadata": {
  "kernelspec": {
   "display_name": "Python 3",
   "language": "python",
   "name": "python3"
  },
  "language_info": {
   "codemirror_mode": {
    "name": "ipython",
    "version": 3
   },
   "file_extension": ".py",
   "mimetype": "text/x-python",
   "name": "python",
   "nbconvert_exporter": "python",
   "pygments_lexer": "ipython3",
   "version": "3.6.1"
  }
 },
 "nbformat": 4,
 "nbformat_minor": 2
}
