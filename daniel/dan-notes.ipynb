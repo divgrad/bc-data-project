{
 "cells": [
  {
   "cell_type": "markdown",
   "metadata": {},
   "source": [
    "## What does the data mean?"
   ]
  },
  {
   "cell_type": "code",
   "execution_count": null,
   "metadata": {
    "collapsed": true
   },
   "outputs": [],
   "source": [
    "import pandas as pd\n",
    "import random\n",
    "import numpy as np\n",
    "import matplotlib.pyplot as plt\n",
    "from sklearn.preprocessing import StandardScaler\n",
    "\n",
    "%matplotlib inline"
   ]
  },
  {
   "cell_type": "markdown",
   "metadata": {},
   "source": [
    "Number of data points is 57,891,462. We need a way to reduce this for visualization / initial analysis."
   ]
  },
  {
   "cell_type": "code",
   "execution_count": null,
   "metadata": {},
   "outputs": [],
   "source": [
    "!wc -l /home/divgrad/data/4-Vadeboncoeur/davis-bay.txt"
   ]
  },
  {
   "cell_type": "markdown",
   "metadata": {},
   "source": [
    "Here are the top five lines of data. What does each columb represent?"
   ]
  },
  {
   "cell_type": "code",
   "execution_count": null,
   "metadata": {},
   "outputs": [],
   "source": [
    "!head -n 5 /home/divgrad/data/4-Vadeboncoeur/davis-bay.txt"
   ]
  },
  {
   "cell_type": "markdown",
   "metadata": {},
   "source": [
    "For <b>Vancouver</b> we have Latitude = 49.25, Longtitude = -123.12. So the first column of data is longtitude, the second is latitude. It will be better to get a sense of this in terms of standard units [m] or [cm]. "
   ]
  },
  {
   "cell_type": "markdown",
   "metadata": {},
   "source": [
    "Extract a random sample (size after -n ) of the original data."
   ]
  },
  {
   "cell_type": "code",
   "execution_count": null,
   "metadata": {},
   "outputs": [],
   "source": [
    "# random sampole\n",
    "!shuf -n 10000 /home/divgrad/data/4-Vadeboncoeur/davis-bay.txt > /home/divgrad/bcdata-project-temp/sample-temp.txt\n",
    "\n",
    "# taking a solid collection\n",
    "#!tail -n 100000 /home/divgrad/data/4-Vadeboncoeur/davis-bay.txt > /home/divgrad/bcdata-project-temp/sample-temp.txt\n",
    "\n",
    "data = pd.read_csv('/home/divgrad/bcdata-project-temp/sample-temp.txt',sep=\" \", header=None)\n",
    "\n",
    "!rm /home/divgrad/bcdata-project-temp/sample-temp.txt"
   ]
  },
  {
   "cell_type": "code",
   "execution_count": null,
   "metadata": {
    "collapsed": true
   },
   "outputs": [],
   "source": [
    "column_names = ['lon', 'lat', 'z', 'r', 'g', 'b', '?', '?', '?']\n",
    "data.columns = column_names"
   ]
  },
  {
   "cell_type": "code",
   "execution_count": null,
   "metadata": {},
   "outputs": [],
   "source": [
    "data.shape"
   ]
  },
  {
   "cell_type": "code",
   "execution_count": null,
   "metadata": {},
   "outputs": [],
   "source": [
    "data.head()"
   ]
  },
  {
   "cell_type": "code",
   "execution_count": null,
   "metadata": {},
   "outputs": [],
   "source": [
    "data.describe().transpose()"
   ]
  },
  {
   "cell_type": "markdown",
   "metadata": {},
   "source": [
    "Based on the above data and converting second changes let's figure out what kind of area we are dealing with."
   ]
  },
  {
   "cell_type": "code",
   "execution_count": null,
   "metadata": {},
   "outputs": [],
   "source": [
    "scaler = StandardScaler()\n",
    "\n",
    "lon_ = scaler.fit_transform(data['lon'].values.reshape(-1,1)).ravel()\n",
    "lat_ = data['lat'].values\n",
    "lat_ = (lat_ - lat_.mean()) / scaler.scale_\n",
    "z_ = data['z'].values\n",
    "z_ = (z_ - z_.mean()) / scaler.scale_\n",
    "\n",
    "lon_lat_z_ = np.vstack((lon_, lat_, z_)).T\n",
    "\n",
    "rgb = data.loc[:, ['r','g','b']].values\n",
    "rgb_01 = rgb/255\n",
    "\n",
    "plt.figure(figsize=(10, 10))\n",
    "plt.scatter(lon_lat_z_[:, 0], lon_lat_z_[:, 1], s=3, c=rgb_01,lw=0);\n",
    "plt.axis('equal');"
   ]
  },
  {
   "cell_type": "code",
   "execution_count": null,
   "metadata": {},
   "outputs": [],
   "source": [
    "scaler = StandardScaler()\n",
    "\n",
    "lon_ = scaler.fit_transform(data['lon'].values.reshape(-1,1)).ravel()\n",
    "lat_ = data['lat'].values\n",
    "lat_ = (lat_ - lat_.mean()) / scaler.scale_\n",
    "z_ = data['z'].values\n",
    "z_ = (z_ - z_.mean()) / scaler.scale_\n",
    "\n",
    "lon_lat_z_ = np.vstack((lon_, lat_, z_)).T\n",
    "\n",
    "rgb = data.loc[:, ['r','g','b']].values\n",
    "rgb_01 = rgb/255\n",
    "\n",
    "plt.figure(figsize=(10, 10))\n",
    "plt.scatter(lon_lat_z_[:, 0], lon_lat_z_[:, 1], s=3, c=rgb_01,lw=0);\n",
    "plt.axis('equal');"
   ]
  },
  {
   "cell_type": "code",
   "execution_count": null,
   "metadata": {},
   "outputs": [],
   "source": [
    "!pip install -U git+git://github.com/ozak/georasters.git"
   ]
  },
  {
   "cell_type": "code",
   "execution_count": null,
   "metadata": {},
   "outputs": [],
   "source": [
    "!pip install -U georasters"
   ]
  },
  {
   "cell_type": "code",
   "execution_count": null,
   "metadata": {
    "collapsed": true
   },
   "outputs": [],
   "source": []
  }
 ],
 "metadata": {
  "kernelspec": {
   "display_name": "Python 3",
   "language": "python",
   "name": "python3"
  },
  "language_info": {
   "codemirror_mode": {
    "name": "ipython",
    "version": 3
   },
   "file_extension": ".py",
   "mimetype": "text/x-python",
   "name": "python",
   "nbconvert_exporter": "python",
   "pygments_lexer": "ipython3",
   "version": "3.6.1"
  }
 },
 "nbformat": 4,
 "nbformat_minor": 2
}
