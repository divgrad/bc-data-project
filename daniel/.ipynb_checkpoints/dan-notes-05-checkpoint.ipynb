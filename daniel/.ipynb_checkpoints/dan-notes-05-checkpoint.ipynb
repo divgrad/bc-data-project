{
 "cells": [
  {
   "cell_type": "code",
   "execution_count": null,
   "metadata": {
    "collapsed": true
   },
   "outputs": [],
   "source": [
    "import pandas as pd\n",
    "import random\n",
    "import numpy as np\n",
    "import matplotlib.pyplot as plt\n",
    "\n",
    "from sklearn.preprocessing import StandardScaler\n",
    "from sklearn.neighbors import NearestNeighbors\n",
    "\n",
    "from sklearn.cluster import DBSCAN\n",
    "from sklearn.cluster import KMeans\n",
    "from sklearn.cluster import MiniBatchKMeans\n",
    "\n",
    "from sklearn import metrics\n",
    "from sklearn.datasets.samples_generator import make_blobs\n",
    "from sklearn import svm\n",
    "\n",
    "%matplotlib inline"
   ]
  },
  {
   "cell_type": "code",
   "execution_count": null,
   "metadata": {
    "collapsed": true
   },
   "outputs": [],
   "source": [
    "# load sample of 10,000,000 data points\n",
    "!shuf -n 10000000 /home/divgrad/data/4-Vadeboncoeur/davis-bay.txt > /home/divgrad/bcdata-project-temp/sample-temp.txt\n",
    "data = pd.read_csv('/home/divgrad/bcdata-project-temp/sample-temp.txt',sep=\" \", header=None)\n",
    "!rm /home/divgrad/bcdata-project-temp/sample-temp.txt"
   ]
  },
  {
   "cell_type": "code",
   "execution_count": null,
   "metadata": {
    "collapsed": true
   },
   "outputs": [],
   "source": [
    "data.columns = ['lon', 'lat', 'z', 'r', 'g', 'b', '?', '?', '?']"
   ]
  },
  {
   "cell_type": "code",
   "execution_count": null,
   "metadata": {
    "collapsed": true
   },
   "outputs": [],
   "source": [
    "zrgb = data[['z','r','g','b']].values\n",
    "rgb = data[['r','g','b']].values\n",
    "lon, lat = data['lon'].values, data['lat'].values"
   ]
  },
  {
   "cell_type": "markdown",
   "metadata": {},
   "source": [
    "# K Means Mini-Batch in z-RGB Space"
   ]
  },
  {
   "cell_type": "code",
   "execution_count": null,
   "metadata": {},
   "outputs": [],
   "source": [
    "batch_size = 50000\n",
    "num_clusters = 20\n",
    "\n",
    "mbk_zrgb = MiniBatchKMeans(init='k-means++', n_clusters=num_clusters, batch_size=batch_size,\n",
    "                      n_init=10, max_no_improvement=10, verbose=0)\n",
    "\n",
    "mbk_zrgb.fit(zrgb)"
   ]
  },
  {
   "cell_type": "code",
   "execution_count": null,
   "metadata": {
    "collapsed": true
   },
   "outputs": [],
   "source": [
    "# important line\n",
    "mbk_labels = mbk_zrgb.labels_"
   ]
  },
  {
   "cell_type": "code",
   "execution_count": null,
   "metadata": {
    "collapsed": true
   },
   "outputs": [],
   "source": [
    "smpl_idx = np.random.choice(np.arange(len(lon)), 150000, replace=False)\n",
    "smpl_lon, smpl_lat, smpl_rgb  = lon[smpl_idx], lat[smpl_idx], rgb[smpl_idx]\n",
    "smpl_labels = mbk_labels[smpl_idx]"
   ]
  },
  {
   "cell_type": "code",
   "execution_count": null,
   "metadata": {
    "collapsed": true
   },
   "outputs": [],
   "source": [
    "rgb_01 = rgb/255\n",
    "smpl_rgb = rgb[smpl_idx]\n",
    "smpl_rgb_01 = rgb_01[smpl_idx]"
   ]
  },
  {
   "cell_type": "code",
   "execution_count": null,
   "metadata": {},
   "outputs": [],
   "source": [
    "plt.figure(figsize=(15,15))\n",
    "plt.scatter(smpl_lon,smpl_lat,c=smpl_rgb_01,s=3,lw=0)\n",
    "plt.axis('scaled')\n",
    "plt.show()"
   ]
  },
  {
   "cell_type": "code",
   "execution_count": null,
   "metadata": {},
   "outputs": [],
   "source": [
    "plt.figure(figsize=(15,15))\n",
    "plt.scatter(smpl_lon,smpl_lat,c=smpl_labels,s=1,alpha=75)\n",
    "plt.axis('scaled')\n",
    "plt.show()"
   ]
  },
  {
   "cell_type": "code",
   "execution_count": null,
   "metadata": {},
   "outputs": [],
   "source": [
    "curr_label = 0\n",
    "\n",
    "plt.figure(figsize=(15,15))\n",
    "plt.scatter(smpl_lon[smpl_labels==curr_label],smpl_lat[smpl_labels==curr_label],c=smpl_rgb_01[smpl_labels==curr_label,:],s=3,lw=0)\n",
    "plt.axis('scaled')"
   ]
  },
  {
   "cell_type": "code",
   "execution_count": null,
   "metadata": {},
   "outputs": [],
   "source": [
    "curr_label = 1\n",
    "\n",
    "plt.figure(figsize=(15,15))\n",
    "plt.scatter(smpl_lon[smpl_labels==curr_label],smpl_lat[smpl_labels==curr_label],c=smpl_rgb_01[smpl_labels==curr_label,:],s=3,lw=0)\n",
    "plt.axis('scaled')"
   ]
  },
  {
   "cell_type": "code",
   "execution_count": null,
   "metadata": {},
   "outputs": [],
   "source": [
    "curr_label = 2\n",
    "\n",
    "plt.figure(figsize=(15,15))\n",
    "plt.scatter(smpl_lon[smpl_labels==curr_label],smpl_lat[smpl_labels==curr_label],c=smpl_rgb_01[smpl_labels==curr_label,:],s=3,lw=0)\n",
    "plt.axis('scaled')"
   ]
  },
  {
   "cell_type": "code",
   "execution_count": null,
   "metadata": {},
   "outputs": [],
   "source": [
    "curr_label = 3\n",
    "\n",
    "plt.figure(figsize=(15,15))\n",
    "plt.scatter(smpl_lon[smpl_labels==curr_label],smpl_lat[smpl_labels==curr_label],c=smpl_rgb_01[smpl_labels==curr_label,:],s=3,lw=0)\n",
    "plt.axis('scaled')"
   ]
  },
  {
   "cell_type": "code",
   "execution_count": null,
   "metadata": {},
   "outputs": [],
   "source": [
    "curr_label = 4\n",
    "\n",
    "plt.figure(figsize=(15,15))\n",
    "plt.scatter(smpl_lon[smpl_labels==curr_label],smpl_lat[smpl_labels==curr_label],c=smpl_rgb_01[smpl_labels==curr_label,:],s=3,lw=0)\n",
    "plt.axis('scaled')"
   ]
  },
  {
   "cell_type": "code",
   "execution_count": null,
   "metadata": {},
   "outputs": [],
   "source": [
    "curr_label = 0\n",
    "\n",
    "plt.figure(figsize=(15,9))\n",
    "\n",
    "for curr_label in range(num_clusters):\n",
    "    plt.subplot(num_clusters,3,3*curr_label+1)\n",
    "    plt.hist(smpl_rgb[smpl_labels==curr_label,0],bins=255,color='r',lw=0,normed=True)\n",
    "    plt.xlim((0,255))\n",
    "    plt.subplot(num_clusters,3,3*curr_label+2)\n",
    "    plt.hist(smpl_rgb[smpl_labels==curr_label,1],bins=255,color='g',lw=0,normed=True)\n",
    "    plt.xlim((0,255))\n",
    "    plt.subplot(num_clusters,3,3*curr_label+3)\n",
    "    plt.hist(smpl_rgb[smpl_labels==curr_label,2],bins=255,color='b',lw=0,normed=True)\n",
    "    plt.xlim((0,255))\n",
    "\n",
    "plt.show()"
   ]
  },
  {
   "cell_type": "markdown",
   "metadata": {},
   "source": [
    "# K Means Mini-Batch in RGB Space"
   ]
  },
  {
   "cell_type": "code",
   "execution_count": null,
   "metadata": {
    "collapsed": true
   },
   "outputs": [],
   "source": [
    "batch_size = 50000\n",
    "num_clusters = 5\n",
    "\n",
    "mbk_rgb = MiniBatchKMeans(init='k-means++', n_clusters=num_clusters, batch_size=batch_size,\n",
    "                      n_init=10, max_no_improvement=10, verbose=0)\n",
    "\n",
    "mbk_rgb.fit(rgb)"
   ]
  },
  {
   "cell_type": "code",
   "execution_count": null,
   "metadata": {
    "collapsed": true
   },
   "outputs": [],
   "source": [
    "mbk_labels = mbk_rgb.labels_"
   ]
  },
  {
   "cell_type": "code",
   "execution_count": null,
   "metadata": {
    "collapsed": true
   },
   "outputs": [],
   "source": [
    "smpl_idx = np.random.choice(np.arange(len(lon)), 150000, replace=False)\n",
    "smpl_lon, smpl_lat, smpl_rgb  = lon[smpl_idx], lat[smpl_idx], rgb[smpl_idx]\n",
    "smpl_labels = mbk_labels[smpl_idx]"
   ]
  },
  {
   "cell_type": "code",
   "execution_count": null,
   "metadata": {
    "collapsed": true
   },
   "outputs": [],
   "source": [
    "rgb_01 = rgb/255\n",
    "smpl_rgb = rgb[smpl_idx]\n",
    "smpl_rgb_01 = rgb_01[smpl_idx]"
   ]
  },
  {
   "cell_type": "code",
   "execution_count": null,
   "metadata": {
    "collapsed": true
   },
   "outputs": [],
   "source": [
    "plt.figure(figsize=(15,15))\n",
    "plt.scatter(smpl_lon,smpl_lat,c=smpl_rgb_01,s=3,lw=0)\n",
    "plt.axis('scaled')\n",
    "plt.show()"
   ]
  },
  {
   "cell_type": "code",
   "execution_count": null,
   "metadata": {
    "collapsed": true
   },
   "outputs": [],
   "source": [
    "plt.figure(figsize=(15,15))\n",
    "plt.scatter(smpl_lon,smpl_lat,c=smpl_labels,s=1,alpha=75)\n",
    "plt.axis('scaled')\n",
    "plt.show()"
   ]
  },
  {
   "cell_type": "code",
   "execution_count": null,
   "metadata": {
    "collapsed": true
   },
   "outputs": [],
   "source": [
    "curr_label = 0\n",
    "\n",
    "plt.figure(figsize=(15,15))\n",
    "plt.scatter(smpl_lon[smpl_labels==curr_label],smpl_lat[smpl_labels==curr_label],c=smpl_rgb_01[smpl_labels==curr_label,:],s=3,lw=0)\n",
    "plt.axis('scaled')"
   ]
  },
  {
   "cell_type": "code",
   "execution_count": null,
   "metadata": {
    "collapsed": true
   },
   "outputs": [],
   "source": [
    "curr_label = 1\n",
    "\n",
    "plt.figure(figsize=(15,15))\n",
    "plt.scatter(smpl_lon[smpl_labels==curr_label],smpl_lat[smpl_labels==curr_label],c=smpl_rgb_01[smpl_labels==curr_label,:],s=3,lw=0)\n",
    "plt.axis('scaled')"
   ]
  },
  {
   "cell_type": "code",
   "execution_count": null,
   "metadata": {
    "collapsed": true
   },
   "outputs": [],
   "source": [
    "curr_label = 2\n",
    "\n",
    "plt.figure(figsize=(15,15))\n",
    "plt.scatter(smpl_lon[smpl_labels==curr_label],smpl_lat[smpl_labels==curr_label],c=smpl_rgb_01[smpl_labels==curr_label,:],s=3,lw=0)\n",
    "plt.axis('scaled')"
   ]
  },
  {
   "cell_type": "code",
   "execution_count": null,
   "metadata": {
    "collapsed": true
   },
   "outputs": [],
   "source": [
    "curr_label = 3\n",
    "\n",
    "plt.figure(figsize=(15,15))\n",
    "plt.scatter(smpl_lon[smpl_labels==curr_label],smpl_lat[smpl_labels==curr_label],c=smpl_rgb_01[smpl_labels==curr_label,:],s=3,lw=0)\n",
    "plt.axis('scaled')"
   ]
  },
  {
   "cell_type": "code",
   "execution_count": null,
   "metadata": {
    "collapsed": true
   },
   "outputs": [],
   "source": [
    "curr_label = 4\n",
    "\n",
    "plt.figure(figsize=(15,15))\n",
    "plt.scatter(smpl_lon[smpl_labels==curr_label],smpl_lat[smpl_labels==curr_label],c=smpl_rgb_01[smpl_labels==curr_label,:],s=3,lw=0)\n",
    "plt.axis('scaled')"
   ]
  },
  {
   "cell_type": "code",
   "execution_count": null,
   "metadata": {
    "collapsed": true
   },
   "outputs": [],
   "source": [
    "curr_label = 0\n",
    "\n",
    "plt.figure(figsize=(15,9))\n",
    "\n",
    "for curr_label in range(num_clusters):\n",
    "    plt.subplot(num_clusters,3,3*curr_label+1)\n",
    "    plt.hist(smpl_rgb[smpl_labels==curr_label,0],bins=255,color='r',lw=0,normed=True)\n",
    "    plt.xlim((0,255))\n",
    "    plt.subplot(num_clusters,3,3*curr_label+2)\n",
    "    plt.hist(smpl_rgb[smpl_labels==curr_label,1],bins=255,color='g',lw=0,normed=True)\n",
    "    plt.xlim((0,255))\n",
    "    plt.subplot(num_clusters,3,3*curr_label+3)\n",
    "    plt.hist(smpl_rgb[smpl_labels==curr_label,2],bins=255,color='b',lw=0,normed=True)\n",
    "    plt.xlim((0,255))\n",
    "\n",
    "plt.show()"
   ]
  },
  {
   "cell_type": "code",
   "execution_count": null,
   "metadata": {
    "collapsed": true
   },
   "outputs": [],
   "source": [
    "def hist3d(arr, **kwargs):\n",
    "    \n",
    "    \"\"\"\n",
    "    hist3d(arr, **kwargs) plots a 3D historgram of point cloud data\n",
    "\n",
    "    Input\n",
    "    arr : the input array of which a histogram will be plotted. arr \n",
    "          should be an N-by-3 array representing values in 3-space.\n",
    "    nbins : the default number of bins along each axis (default: 50)\n",
    "    th : the threshold below which a bin will not be represented in\n",
    "         the final histogram. (default: .01)\n",
    "    figsize : the size of the output figure (default: (10, 8))\n",
    "    elev : the elevation angle of the view (default : 45)\n",
    "    azim : the azimuthal angle of the view (default: 30)\n",
    "    cmap : the colour map used in the plot (default: viridis)\n",
    "    s : the size of the points in the histogram (default: 3)\n",
    "    \"\"\"\n",
    "    \n",
    "    nbins = kwargs.get('nbins', 50)\n",
    "    th = kwargs.get('threshold', .01)\n",
    "    figsize = kwargs.get('figsize', (10,8))\n",
    "    elev = kwargs.get('elev', 45)\n",
    "    azim = kwargs.get('azim', 30)\n",
    "    cmap = kwargs.get('cmap', 'viridis')\n",
    "    s = kwargs.get('s', 3)\n",
    "\n",
    "    H, edges = np.histogramdd(arr, bins=nbins)\n",
    "    edges = np.vstack(edges).T\n",
    "    edges = .5 * (edges[1:,:] + edges[:-1,:])\n",
    "    edges.shape\n",
    "\n",
    "    x = []\n",
    "    y = []\n",
    "    z = []\n",
    "    c = []\n",
    "\n",
    "    for j in range(nbins):\n",
    "        for k in range(nbins):\n",
    "            for l in range(nbins):\n",
    "                v = H[j,k,l]\n",
    "                if v < th:\n",
    "                    continue\n",
    "                else:\n",
    "                    x.append(edges[j,0])\n",
    "                    y.append(edges[k,1])\n",
    "                    z.append(edges[l,2])\n",
    "                    c.append(v)\n",
    "    from mpl_toolkits.mplot3d import Axes3D\n",
    "    fig = plt.figure(figsize=figsize)\n",
    "    ax = fig.add_subplot(111, projection='3d')\n",
    "    ax.view_init(elev, azim)\n",
    "    im = ax.scatter(x, y, z, zdir='z', c=arr/255, s=100*c,lw=0);\n",
    "    return\n"
   ]
  },
  {
   "cell_type": "code",
   "execution_count": null,
   "metadata": {
    "collapsed": true
   },
   "outputs": [],
   "source": [
    "curr_label = 2\n",
    "hist3d(smpl_rgb[smpl_labels==curr_label])"
   ]
  },
  {
   "cell_type": "code",
   "execution_count": null,
   "metadata": {
    "collapsed": true
   },
   "outputs": [],
   "source": []
  }
 ],
 "metadata": {
  "kernelspec": {
   "display_name": "Python 3",
   "language": "python",
   "name": "python3"
  },
  "language_info": {
   "codemirror_mode": {
    "name": "ipython",
    "version": 3
   },
   "file_extension": ".py",
   "mimetype": "text/x-python",
   "name": "python",
   "nbconvert_exporter": "python",
   "pygments_lexer": "ipython3",
   "version": "3.6.1"
  }
 },
 "nbformat": 4,
 "nbformat_minor": 2
}
