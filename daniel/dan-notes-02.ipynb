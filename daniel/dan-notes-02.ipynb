{
 "cells": [
  {
   "cell_type": "code",
   "execution_count": null,
   "metadata": {
    "collapsed": true
   },
   "outputs": [],
   "source": [
    "import pandas as pd\n",
    "import random\n",
    "import numpy as np\n",
    "import matplotlib.pyplot as plt\n",
    "\n",
    "from sklearn.preprocessing import StandardScaler\n",
    "from sklearn.neighbors import NearestNeighbors\n",
    "from sklearn.cluster import DBSCAN\n",
    "from sklearn import metrics\n",
    "from sklearn.datasets.samples_generator import make_blobs\n",
    "\n",
    "%matplotlib inline"
   ]
  },
  {
   "cell_type": "code",
   "execution_count": null,
   "metadata": {
    "collapsed": true
   },
   "outputs": [],
   "source": [
    "# random sampole\n",
    "!shuf -n 100000 /home/divgrad/data/4-Vadeboncoeur/davis-bay.txt > /home/divgrad/bcdata-project-temp/sample-temp.txt\n",
    "data = pd.read_csv('/home/divgrad/bcdata-project-temp/sample-temp.txt',sep=\" \", header=None)\n",
    "!rm /home/divgrad/bcdata-project-temp/sample-temp.txt"
   ]
  },
  {
   "cell_type": "markdown",
   "metadata": {},
   "source": [
    "From wiki:\n",
    "<i>On the WGS84 spheroid, the length in meters of a degree of latitude at latitude</i> $\\varphi$ is\n",
    "\n",
    "$111132.92 - 559.82 \\cos(2\\varphi) + 1.175\\cos(4\\varphi ) - 0.0023 \\cos(6\\varphi)$,\n",
    "\n",
    "... and <i>the length in meters of a degree of longitude<\\i> is\n",
    "\n",
    "$111412.84 \\cos\\varphi - 93.5\\cos 3\\varphi + 0.118 \\cos 5\\varphi $."
   ]
  },
  {
   "cell_type": "code",
   "execution_count": null,
   "metadata": {},
   "outputs": [],
   "source": [
    "column_names = ['lon', 'lat', 'z', 'r', 'g', 'b', '?', '?', '?']\n",
    "data.columns = column_names\n",
    "\n",
    "\n",
    "\n",
    "lon, lat = data['lon'].values, data['lat'].values\n",
    "\n",
    "\"\"\"\n",
    "min_lon, max_lon = dat_lon.min(), dat_lon.max()\n",
    "min_lat, max_lat = dat_lat.min(), dat_lat.min()\n",
    "\n",
    "lat_mid = 0.5*( min_lat + max_lat )\n",
    "\n",
    "del_lat = 111132.92 - 559.82*np.cos(2*lat_mid) + 1.175*np.cos(4*lat_mid) - 0.0023*np.cos(6*lat_mid)\n",
    "del_lon = 111412.84*np.cos(lat_mid) - 93.5*np.cos(3*lat_mid) + 0.118*np.cos(5*lat_mid)\n",
    "\n",
    "x = (dat_lon - min_lon)*del_lon\n",
    "y = (dat_lat - min_lat)*del_lat\n",
    "\"\"\"\n",
    "\n",
    "rgb = data.loc[:, ['r','g','b']].values\n",
    "rgb_01 = rgb/255\n",
    "\n",
    "plt.figure(figsize=(15,15))\n",
    "plt.scatter(lon,lat,c=rgb_01,s=3,lw=0)\n",
    "plt.grid()\n",
    "plt.xlabel('longitude')\n",
    "plt.ylabel('latitude')\n",
    "plt.axis('scaled')\n",
    "\n",
    "plt.show()"
   ]
  },
  {
   "cell_type": "code",
   "execution_count": null,
   "metadata": {},
   "outputs": [],
   "source": [
    "print(rgb_01)"
   ]
  },
  {
   "cell_type": "code",
   "execution_count": null,
   "metadata": {
    "collapsed": true
   },
   "outputs": [],
   "source": [
    "from sklearn.neighbors import NearestNeighbors\n",
    "\n",
    "lonlat = data.as_matrix(columns=data.columns)[:,:2]\n"
   ]
  },
  {
   "cell_type": "code",
   "execution_count": null,
   "metadata": {
    "collapsed": true
   },
   "outputs": [],
   "source": [
    "neigh = NearestNeighbors(radius=0.00001)\n",
    "neigh.fit(lonlat)\n",
    "rng = neigh.radius_neighbors([lonlat[0,:]])\n",
    "\n",
    "print(np.asarray(rng[0][0]))\n",
    "print(np.asarray(rng[1][0]))\n"
   ]
  },
  {
   "cell_type": "code",
   "execution_count": null,
   "metadata": {
    "collapsed": true
   },
   "outputs": [],
   "source": [
    "neigh = NearestNeighbors(radius=0.000005)\n",
    "neigh.fit(lonlat)\n",
    "\n",
    "# calculates graph showigng distnce between points if that distance is less than radius\n",
    "A = neigh.radius_neighbors_graph(lonlat,mode='distance')\n",
    "\n",
    "# calcualtes connectivity amtrix\n",
    "#A = neigh.radius_neighbors_graph(lonlat,mode='connectivity')"
   ]
  },
  {
   "cell_type": "code",
   "execution_count": null,
   "metadata": {
    "collapsed": true
   },
   "outputs": [],
   "source": []
  },
  {
   "cell_type": "code",
   "execution_count": null,
   "metadata": {
    "collapsed": true
   },
   "outputs": [],
   "source": [
    "A.sum(axis=1).max()"
   ]
  },
  {
   "cell_type": "code",
   "execution_count": null,
   "metadata": {
    "collapsed": true
   },
   "outputs": [],
   "source": [
    "B = np.array([[1,1,1],[2,2,2]])\n",
    "\n",
    "B.sum(axis=1)"
   ]
  },
  {
   "cell_type": "code",
   "execution_count": null,
   "metadata": {
    "collapsed": true
   },
   "outputs": [],
   "source": [
    "distance, indices = nbrs.kneighbors(lonlat)"
   ]
  },
  {
   "cell_type": "code",
   "execution_count": null,
   "metadata": {
    "collapsed": true
   },
   "outputs": [],
   "source": [
    "distance"
   ]
  },
  {
   "cell_type": "code",
   "execution_count": null,
   "metadata": {
    "collapsed": true
   },
   "outputs": [],
   "source": [
    "for k in range(5):\n",
    "    print(lonlat[k,:])"
   ]
  },
  {
   "cell_type": "code",
   "execution_count": null,
   "metadata": {
    "collapsed": true
   },
   "outputs": [],
   "source": [
    "u_lonlat, u_ind = np.unique(lonlat,axis=0,return_index=True)"
   ]
  },
  {
   "cell_type": "code",
   "execution_count": null,
   "metadata": {
    "collapsed": true
   },
   "outputs": [],
   "source": [
    "a = np.array([[1, 0, 0], [1, 0, 0], [2, 3, 4]])\n",
    "np.unique(a, axis=0)"
   ]
  },
  {
   "cell_type": "markdown",
   "metadata": {},
   "source": [
    "## How good a representation is a random sample?"
   ]
  },
  {
   "cell_type": "code",
   "execution_count": null,
   "metadata": {
    "collapsed": true
   },
   "outputs": [],
   "source": [
    "num_samples = 5\n",
    "num_bins = 'auto'\n",
    "\n",
    "# min, max, mean, std\n",
    "rgb_min = np.zeros((num_samples,3))\n",
    "rgb_max = np.zeros((num_samples,3))\n",
    "rgb_mean = np.zeros((num_samples,3))\n",
    "rgb_std = np.zeros((num_samples,3))\n",
    "\n",
    "plt.figure(figsize=(15,15))\n",
    "\n",
    "for k in range(num_samples):\n",
    "\n",
    "    !shuf -n 1000 /home/divgrad/data/4-Vadeboncoeur/davis-bay.txt > /home/divgrad/bcdata-project-temp/sample-temp.txt\n",
    "    data = pd.read_csv('/home/divgrad/bcdata-project-temp/sample-temp.txt',sep=\" \", header=None)\n",
    "    !rm /home/divgrad/bcdata-project-temp/sample-temp.txt\n",
    "\n",
    "    rgb = data.as_matrix(columns=data.columns)[:,2:5]\n",
    "    \n",
    "    rgb_min[k,:], rgb_max[k,:] = rgb.min(axis=0), rgb.max(axis=0)\n",
    "    rgb_mean[k,:], rgb_std[k,:] = rgb.mean(axis=0), rgb.std(axis=0)\n",
    "        \n",
    "    plt.subplot(num_samples,3,3*k+1)\n",
    "    plt.hist(rgb[:,0],color='r',bins=num_bins)\n",
    "    plt.subplot(num_samples,3,3*k+2)\n",
    "    plt.hist(rgb[:,1],color='g',bins=num_bins)\n",
    "    plt.subplot(num_samples,3,3*k+3)\n",
    "    plt.hist(rgb[:,2],color='b',bins=num_bins)\n",
    "\n",
    "plt.show()\n"
   ]
  },
  {
   "cell_type": "code",
   "execution_count": null,
   "metadata": {
    "collapsed": true
   },
   "outputs": [],
   "source": []
  },
  {
   "cell_type": "code",
   "execution_count": null,
   "metadata": {
    "collapsed": true
   },
   "outputs": [],
   "source": [
    "# random sampole\n",
    "!shuf -n 100000 /home/divgrad/data/4-Vadeboncoeur/davis-bay.txt > /home/divgrad/bcdata-project-temp/sample-temp.txt\n",
    "data = pd.read_csv('/home/divgrad/bcdata-project-temp/sample-temp.txt',sep=\" \", header=None)\n",
    "!rm /home/divgrad/bcdata-project-temp/sample-temp.txt\n",
    "\n",
    "data.columns = ['lon', 'lat', 'z', 'r', 'g', 'b', '?', '?', '?']"
   ]
  },
  {
   "cell_type": "code",
   "execution_count": null,
   "metadata": {
    "collapsed": true
   },
   "outputs": [],
   "source": [
    "scaler = StandardScaler()\n",
    "\n",
    "X = data.as_matrix(columns=data.columns)[:,[0,1,3,4,5]]\n",
    "X = StandardScaler().fit_transform(X)"
   ]
  },
  {
   "cell_type": "code",
   "execution_count": null,
   "metadata": {
    "collapsed": true
   },
   "outputs": [],
   "source": [
    "db = DBSCAN(eps=0.1, min_samples=250).fit(X)"
   ]
  },
  {
   "cell_type": "code",
   "execution_count": null,
   "metadata": {
    "collapsed": true
   },
   "outputs": [],
   "source": [
    "core_samples_mask = np.zeros_like(db.labels_, dtype=bool)\n",
    "core_samples_mask[db.core_sample_indices_] = True\n",
    "labels = db.labels_\n",
    "\n",
    "# Number of clusters in labels, ignoring noise if present.\n",
    "n_clusters_ = len(set(labels)) - (1 if -1 in labels else 0)\n",
    "\n",
    "\n",
    "# #############################################################################\n",
    "# Plot result\n",
    "import matplotlib.pyplot as plt\n",
    "\n",
    "# Black removed and is used for noise instead.\n",
    "unique_labels = set(labels)\n",
    "colors = [plt.cm.Spectral(each)\n",
    "          for each in np.linspace(0, 1, len(unique_labels))]\n",
    "\n",
    "plt.figure(figsize=(15,15))\n",
    "for k, col in zip(unique_labels, colors):\n",
    "    if k == -1:\n",
    "        # Black used for noise.\n",
    "        col = [0, 0, 0, 1]\n",
    "\n",
    "    class_member_mask = (labels == k)\n",
    "\n",
    "    xy = X[class_member_mask & core_samples_mask]\n",
    "    plt.plot(xy[:, 0], xy[:, 1], 'o', markerfacecolor=tuple(col),\n",
    "             markeredgecolor='none', markersize=14)\n",
    "\n",
    "    xy = X[class_member_mask & ~core_samples_mask]\n",
    "    plt.plot(xy[:, 0], xy[:, 1], 'o', markerfacecolor=tuple(col),\n",
    "             markeredgecolor='none', markersize=6)\n",
    "\n",
    "plt.title('Estimated number of clusters: %d' % n_clusters_)\n",
    "plt.show()"
   ]
  },
  {
   "cell_type": "code",
   "execution_count": null,
   "metadata": {
    "collapsed": true
   },
   "outputs": [],
   "source": [
    "print('Estimated number of clusters: %d' % n_clusters_)"
   ]
  },
  {
   "cell_type": "code",
   "execution_count": null,
   "metadata": {
    "collapsed": true
   },
   "outputs": [],
   "source": []
  },
  {
   "cell_type": "code",
   "execution_count": null,
   "metadata": {
    "collapsed": true
   },
   "outputs": [],
   "source": []
  },
  {
   "cell_type": "code",
   "execution_count": null,
   "metadata": {
    "collapsed": true
   },
   "outputs": [],
   "source": [
    "\n"
   ]
  }
 ],
 "metadata": {
  "kernelspec": {
   "display_name": "Python 3",
   "language": "python",
   "name": "python3"
  },
  "language_info": {
   "codemirror_mode": {
    "name": "ipython",
    "version": 3
   },
   "file_extension": ".py",
   "mimetype": "text/x-python",
   "name": "python",
   "nbconvert_exporter": "python",
   "pygments_lexer": "ipython3",
   "version": "3.6.1"
  }
 },
 "nbformat": 4,
 "nbformat_minor": 2
}
