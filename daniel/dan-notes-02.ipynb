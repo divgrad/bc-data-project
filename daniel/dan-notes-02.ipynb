{
 "cells": [
  {
   "cell_type": "code",
   "execution_count": null,
   "metadata": {
    "collapsed": true
   },
   "outputs": [],
   "source": [
    "import pandas as pd\n",
    "import random\n",
    "import numpy as np\n",
    "import matplotlib.pyplot as plt\n",
    "from sklearn.preprocessing import StandardScaler\n",
    "\n",
    "%matplotlib inline"
   ]
  },
  {
   "cell_type": "code",
   "execution_count": null,
   "metadata": {
    "collapsed": true
   },
   "outputs": [],
   "source": [
    "# random sampole\n",
    "!shuf -n 50000 /home/divgrad/data/4-Vadeboncoeur/davis-bay.txt > /home/divgrad/bcdata-project-temp/sample-temp.txt\n",
    "data = pd.read_csv('/home/divgrad/bcdata-project-temp/sample-temp.txt',sep=\" \", header=None)\n",
    "!rm /home/divgrad/bcdata-project-temp/sample-temp.txt"
   ]
  },
  {
   "cell_type": "markdown",
   "metadata": {},
   "source": [
    "From wiki:\n",
    "<i>On the WGS84 spheroid, the length in meters of a degree of latitude at latitude</i> $\\varphi$ is\n",
    "\n",
    "$111132.92 - 559.82 \\cos(2\\varphi) + 1.175\\cos(4\\varphi ) - 0.0023 \\cos(6\\varphi)$,\n",
    "\n",
    "... and <i>the length in meters of a degree of longitude<\\i> is\n",
    "\n",
    "$111412.84 \\cos\\varphi - 93.5\\cos 3\\varphi + 0.118 \\cos 5\\varphi $."
   ]
  },
  {
   "cell_type": "code",
   "execution_count": null,
   "metadata": {},
   "outputs": [],
   "source": [
    "column_names = ['lon', 'lat', 'z', 'r', 'g', 'b', '?', '?', '?']\n",
    "data.columns = column_names\n",
    "\n",
    "\n",
    "\n",
    "lon, lat = data['lon'].values, data['lat'].values\n",
    "\n",
    "\"\"\"\n",
    "min_lon, max_lon = dat_lon.min(), dat_lon.max()\n",
    "min_lat, max_lat = dat_lat.min(), dat_lat.min()\n",
    "\n",
    "lat_mid = 0.5*( min_lat + max_lat )\n",
    "\n",
    "del_lat = 111132.92 - 559.82*np.cos(2*lat_mid) + 1.175*np.cos(4*lat_mid) - 0.0023*np.cos(6*lat_mid)\n",
    "del_lon = 111412.84*np.cos(lat_mid) - 93.5*np.cos(3*lat_mid) + 0.118*np.cos(5*lat_mid)\n",
    "\n",
    "x = (dat_lon - min_lon)*del_lon\n",
    "y = (dat_lat - min_lat)*del_lat\n",
    "\"\"\"\n",
    "\n",
    "rgb = data.loc[:, ['r','g','b']].values\n",
    "rgb_01 = rgb/255\n",
    "\n",
    "plt.figure(figsize=(15,15))\n",
    "plt.scatter(lon,lat,c=rgb_01,s=3,lw=0)\n",
    "plt.grid()\n",
    "plt.xlabel('longitude')\n",
    "plt.ylabel('latitude')\n",
    "plt.axis('scaled')\n",
    "\n",
    "plt.show()"
   ]
  },
  {
   "cell_type": "code",
   "execution_count": null,
   "metadata": {},
   "outputs": [],
   "source": [
    "from sklearn.neighbors import NearestNeighbors\n",
    "\n",
    "lonlat = data.as_matrix(columns=data.columns)[:,:2]\n"
   ]
  },
  {
   "cell_type": "code",
   "execution_count": null,
   "metadata": {},
   "outputs": [],
   "source": [
    "neigh = NearestNeighbors(radius=0.00001)\n",
    "neigh.fit(lonlat)\n",
    "rng = neigh.radius_neighbors([lonlat[0,:]])\n",
    "\n",
    "print(np.asarray(rng[0][0]))\n",
    "print(np.asarray(rng[1][0]))\n"
   ]
  },
  {
   "cell_type": "code",
   "execution_count": null,
   "metadata": {},
   "outputs": [],
   "source": [
    "neigh = NearestNeighbors(radius=0.000005)\n",
    "neigh.fit(lonlat)\n",
    "\n",
    "# calculates graph showigng distnce between points if that distance is less than radius\n",
    "A = neigh.radius_neighbors_graph(lonlat,mode='distance')\n",
    "\n",
    "# calcualtes connectivity amtrix\n",
    "#A = neigh.radius_neighbors_graph(lonlat,mode='connectivity')"
   ]
  },
  {
   "cell_type": "code",
   "execution_count": null,
   "metadata": {
    "collapsed": true
   },
   "outputs": [],
   "source": []
  },
  {
   "cell_type": "code",
   "execution_count": null,
   "metadata": {},
   "outputs": [],
   "source": [
    "A.sum(axis=1).max()"
   ]
  },
  {
   "cell_type": "code",
   "execution_count": null,
   "metadata": {},
   "outputs": [],
   "source": [
    "B = np.array([[1,1,1],[2,2,2]])\n",
    "\n",
    "B.sum(axis=1)"
   ]
  },
  {
   "cell_type": "code",
   "execution_count": null,
   "metadata": {
    "collapsed": true
   },
   "outputs": [],
   "source": [
    "distance, indices = nbrs.kneighbors(lonlat)"
   ]
  },
  {
   "cell_type": "code",
   "execution_count": null,
   "metadata": {},
   "outputs": [],
   "source": [
    "distance"
   ]
  },
  {
   "cell_type": "code",
   "execution_count": null,
   "metadata": {
    "collapsed": true
   },
   "outputs": [],
   "source": [
    "for k in range(5):\n",
    "    print(lonlat[k,:])"
   ]
  },
  {
   "cell_type": "code",
   "execution_count": null,
   "metadata": {
    "collapsed": true
   },
   "outputs": [],
   "source": [
    "u_lonlat, u_ind = np.unique(lonlat,axis=0,return_index=True)"
   ]
  },
  {
   "cell_type": "code",
   "execution_count": null,
   "metadata": {
    "collapsed": true
   },
   "outputs": [],
   "source": [
    "\n",
    "a = np.array([[1, 0, 0], [1, 0, 0], [2, 3, 4]])\n",
    "np.unique(a, axis=0)"
   ]
  },
  {
   "cell_type": "code",
   "execution_count": null,
   "metadata": {
    "collapsed": true
   },
   "outputs": [],
   "source": [
    "np.version.version"
   ]
  }
 ],
 "metadata": {
  "kernelspec": {
   "display_name": "Python 3",
   "language": "python",
   "name": "python3"
  },
  "language_info": {
   "codemirror_mode": {
    "name": "ipython",
    "version": 3
   },
   "file_extension": ".py",
   "mimetype": "text/x-python",
   "name": "python",
   "nbconvert_exporter": "python",
   "pygments_lexer": "ipython3",
   "version": "3.6.1"
  }
 },
 "nbformat": 4,
 "nbformat_minor": 2
}
